{
  "nbformat": 4,
  "nbformat_minor": 0,
  "metadata": {
    "colab": {
      "name": "SMM_HW2_Mostofa_final.ipynb",
      "provenance": [],
      "collapsed_sections": [],
      "authorship_tag": "ABX9TyOEHHyRSVBbMAyvtcUnbYCY",
      "include_colab_link": true
    },
    "kernelspec": {
      "name": "python3",
      "display_name": "Python 3"
    }
  },
  "cells": [
    {
      "cell_type": "markdown",
      "metadata": {
        "id": "view-in-github",
        "colab_type": "text"
      },
      "source": [
        "<a href=\"https://colab.research.google.com/github/Mostofa-Najmus-Sakib/Social-Media-Mining/blob/main/Assisgnment2/SMM_HW2.ipynb\" target=\"_parent\"><img src=\"https://colab.research.google.com/assets/colab-badge.svg\" alt=\"Open In Colab\"/></a>"
      ]
    },
    {
      "cell_type": "markdown",
      "metadata": {
        "id": "wl7yhRuh0q4Q"
      },
      "source": [
        "# Part 1 - Properties of Real-world Networks and Centrality "
      ]
    },
    {
      "cell_type": "markdown",
      "metadata": {
        "id": "3O5wkDce02zx"
      },
      "source": [
        "Loading all the library"
      ]
    },
    {
      "cell_type": "code",
      "metadata": {
        "id": "snz0B3vC0pIV"
      },
      "source": [
        "import networkx as nx\n",
        "import pandas as pd\n",
        "import io\n",
        "import datetime\n",
        "import matplotlib.pyplot as plt\n",
        "import matplotlib.colors as mcolors\n",
        "import numpy as np \n",
        "from collections import OrderedDict\n",
        "import os"
      ],
      "execution_count": null,
      "outputs": []
    },
    {
      "cell_type": "markdown",
      "metadata": {
        "id": "RBpvN_2h-SDX"
      },
      "source": [
        "*Change of directory*"
      ]
    },
    {
      "cell_type": "code",
      "metadata": {
        "id": "xNpO7ui4lxJX",
        "colab": {
          "base_uri": "https://localhost:8080/",
          "height": 35
        },
        "outputId": "7fe8da36-f272-4350-d930-67c7b48bb7a5"
      },
      "source": [
        "os.getcwd()"
      ],
      "execution_count": null,
      "outputs": [
        {
          "output_type": "execute_result",
          "data": {
            "application/vnd.google.colaboratory.intrinsic+json": {
              "type": "string"
            },
            "text/plain": [
              "'/content'"
            ]
          },
          "metadata": {
            "tags": []
          },
          "execution_count": 2
        }
      ]
    },
    {
      "cell_type": "code",
      "metadata": {
        "id": "1pu3gwhujcHm",
        "colab": {
          "base_uri": "https://localhost:8080/",
          "height": 34
        },
        "outputId": "213565ee-746e-4ea9-c166-83111da0ca77"
      },
      "source": [
        "from google.colab import drive \n",
        "drive.mount('/content/drive')"
      ],
      "execution_count": null,
      "outputs": [
        {
          "output_type": "stream",
          "text": [
            "Mounted at /content/drive\n"
          ],
          "name": "stdout"
        }
      ]
    },
    {
      "cell_type": "code",
      "metadata": {
        "id": "-u1n6mRZmtas"
      },
      "source": [
        "# cd /content/drive/My\\ Drive/Colab\\ Notebooks/"
      ],
      "execution_count": null,
      "outputs": []
    },
    {
      "cell_type": "code",
      "metadata": {
        "id": "yEOxjD3-ANIg",
        "colab": {
          "base_uri": "https://localhost:8080/",
          "height": 34
        },
        "outputId": "f2f56813-a00e-434c-afda-5a327a66ba34"
      },
      "source": [
        "cd /content/drive/My\\ Drive/submissions/Mostofa\\ Najmus\\ Sakib/HW2/"
      ],
      "execution_count": null,
      "outputs": [
        {
          "output_type": "stream",
          "text": [
            "/content/drive/.shortcut-targets-by-id/1vWHfsxivGp8L_gSKNIOdbRvkrLICTeHJ/submissions/Mostofa Najmus Sakib/HW2\n"
          ],
          "name": "stdout"
        }
      ]
    },
    {
      "cell_type": "markdown",
      "metadata": {
        "id": "eR5n3E6E1APV"
      },
      "source": [
        "## Question 1: Load the ​ 115th House retweets.gexf ​ network as an ​ undirected graph​  G"
      ]
    },
    {
      "cell_type": "code",
      "metadata": {
        "id": "ERv4eEJwm389"
      },
      "source": [
        "G = nx.read_gexf(\"115th House retweets.gexf\")"
      ],
      "execution_count": null,
      "outputs": []
    },
    {
      "cell_type": "markdown",
      "metadata": {
        "id": "qc4dXjgS4fTV"
      },
      "source": [
        "# **Calculation of largest connected component G0**"
      ]
    },
    {
      "cell_type": "code",
      "metadata": {
        "id": "EM5QjoEiAT70",
        "colab": {
          "base_uri": "https://localhost:8080/",
          "height": 34
        },
        "outputId": "7180e214-fdcb-4e4e-e1b2-042e57505685"
      },
      "source": [
        "G2 = G.to_undirected()\n",
        "nx.is_directed(G2)"
      ],
      "execution_count": null,
      "outputs": [
        {
          "output_type": "execute_result",
          "data": {
            "text/plain": [
              "False"
            ]
          },
          "metadata": {
            "tags": []
          },
          "execution_count": 7
        }
      ]
    },
    {
      "cell_type": "code",
      "metadata": {
        "id": "EjBqnA8z74MM",
        "colab": {
          "base_uri": "https://localhost:8080/",
          "height": 54
        },
        "outputId": "72a79469-c4c7-4e21-bf54-a4ffe80d98cd"
      },
      "source": [
        "G2.degree"
      ],
      "execution_count": null,
      "outputs": [
        {
          "output_type": "execute_result",
          "data": {
            "text/plain": [
              "DegreeView({'25086658': 2, '2970279814': 81, '1068499286': 72, '252819323': 22, '36686040': 53, '168673083': 5, '26051676': 9, '581141508': 84, '240363117': 4, '48117116': 8, '993153006': 34, '742735530287304704': 21, '76452765': 12, '140519774': 120, '24195214': 130, '24913074': 63, '818460870573441028': 25, '1089859058': 58, '242873057': 17, '50452197': 60, '818713465653051392': 69, '1140648348': 61, '851621377': 10, '1305596696': 7, '1531521632': 96, '164369297': 115, '19929362': 10, '161743731': 17, '1134292500': 11, '1243902714': 46, '402719755': 2, '816282029276938240': 70, '18566912': 16, '377534571': 14, '837722935095930883': 5, '518644221': 22, '18277655': 11, '22527499': 8, '2966205003': 48, '1065995022': 14, '47798449': 20, '211530910': 19, '33655490': 16, '1055685948': 24, '2862577383': 8, '2962868158': 138, '1058345042': 10, '41417564': 36, '818975124460335106': 49, '796736612554117120': 67, '240427862': 30, '404132211': 28, '76132891': 6, '550401754': 8, '20552026': 46, '1128514404': 9, '254082173': 26, '23976316': 1, '816012124505931780': 10, '811632636598910976': 28, '838462994': 3, '29501253': 101, '937723303': 23, '15361570': 6, '242426145': 130, '296245061': 5, '237862972': 20, '1051446626': 29, '33576489': 48, '1077446982': 12, '843636970538618880': 6, '112740986': 5, '3317799825': 5, '303861808': 61, '23124635': 7, '2974648323': 18, '234057152': 4, '240393970': 29, '2968007206': 67, '236916916': 22, '221792092': 54, '1060984272': 79, '787373558': 107, '235312723': 93, '305216911': 43, '816303263586914304': 29, '240812994': 110, '2847221717': 27, '1883356866': 1, '138770045': 82, '124224165': 31, '1069124515': 16, '234014087': 86, '18773159': 8, '242376736': 9, '26424123': 19, '161411080': 98, '156333623': 32, '818554054309715969': 41, '816833925456789505': 98, '815733290955112448': 108, '2750127259': 36, '23712174': 10, '281540744': 14, '827279765287559171': 25, '246341769': 7, '80612021': 75, '2433737761': 46, '37094727': 27, '432676344': 62, '305620929': 30, '233842454': 32, '2382685057': 4, '16256269': 10, '1064206014': 18, '1072008757': 7, '234022257': 52, '3091316093': 14, '1058717720': 82, '2965083477': 15, '2964526557': 6, '816157667882373120': 59, '1071840474': 50, '1058917562': 23, '1155335864': 41, '235190657': 8, '219429281': 37, '237814920': 14, '384913290': 117, '2966758114': 2, '1060370282': 16, '51228911': 17, '22055226': 15, '2963445730': 35, '816131319033950208': 30, '13491312': 40, '1206227149': 114, '31611298': 23, '2962891515': 8, '278145569': 14, '33563161': 16, '584012853': 35, '479872233': 79, '2914571740': 20, '1092757885': 1, '37920978': 32, '153944899': 89, '2914163523': 17, '815985039485837312': 29, '816719802328715264': 1, '1880674038': 105, '2953494478': 1, '16102244': 46, '22545491': 20, '2968451607': 106, '18696134': 21, '6577802': 3, '1262814457': 78, '806906355214852096': 128, '299883942': 12, '2951574214': 5, '1071102246': 25, '63169388': 28, '234797704': 11, '2253968388': 49, '950783972': 21, '2852998461': 19, '3122099613': 60, '88806753': 39, '815966620300480514': 25, '33977070': 13, '823552974253342721': 97, '828977216595849216': 12, '798973032362606600': 88, '2953974395': 12, '816111677917851649': 19, '976969338': 18, '1222257180': 40, '806583915012046854': 20, '2929491549': 17, '22012091': 165, '267854863': 26, '163570705': 34, '442824717': 38, '2293131060': 82, '234822928': 14, '1048784496': 18, '17544524': 13, '1058460818': 8, '1045853744': 8, '2962813893': 24, '235251868': 9, '153486399': 51, '252819642': 56, '237750442': 25, '819744763020775425': 60, '1055730738': 49, '817138492614524928': 17, '2914515430': 27, '249288197': 5, '199325935': 61, '808416682972770304': 20, '1410590874': 34, '815952318487298048': 16, '1037321378': 65, '24745957': 114, '32010840': 10, '2964949642': 32, '19318314': 34, '880480631108644864': 28, '1849261916': 9, '818948638890217473': 27, '1623308912': 4, '2371339658': 81, '38254095': 88, '816652616625168388': 37, '816047090849746945': 14, '911302336307490816': 8, '19739126': 127, '239871673': 29, '1339931490': 91, '613725908': 6, '2975091705': 25, '24183358': 14, '1382011333': 4, '22669526': 87, '2966765501': 16, '56864092': 48, '975200486': 27, '29766367': 14, '1260172386': 83, '942156122': 87, '854715071116849157': 16, '137794015': 123, '1444015610': 6, '19926675': 64, '115676070': 1, '231108733': 17, '2916086925': 118, '22812754': 75, '18805303': 5, '314205957': 11, '249410485': 10, '817050219007328258': 37, '15764644': 173, '2970462034': 38, '2861616083': 5, '29450962': 89, '210926192': 28, '814179031956488192': 99, '815241612154417152': 20, '1074129612': 85, '20053279': 21, '242926427': 5, '797201048490430465': 27, '39249305': 88, '1209417007': 168, '126171100': 9, '237312687': 25, '2932617195': 10, '14984637': 49, '18916432': 201, '18166778': 34, '310310133': 12, '3353670647': 19, '816030424778543104': 60, '17513304': 21, '2724095695': 68, '1058051748': 8, '28602948': 70, '242892689': 41, '241207373': 7, '814103950404239360': 24, '2962994194': 11, '22523087': 13, '188019606': 46, '817076257770835968': 107, '235271965': 4, '164007407': 83, '58928690': 37, '161791703': 102, '18909919': 58, '84119348': 54, '1135486501': 51, '1037341536592310272': 1, '78445977': 46, '816181091673448448': 87, '1074412920': 2, '1908143071': 8, '950328072': 22, '248699486': 5, '110545675': 39, '1009269193': 9, '237763317': 25, '1092979962': 105, '235373000': 35, '776664410': 8, '1071900114': 7, '234812598': 14, '237299871': 13, '1055907624': 86, '1045110018': 124, '2964287128': 5, '224294785': 20, '19407835': 11, '30216513': 9, '239949176': 76, '122174004': 41, '17800215': 31, '818472418620608512': 52, '15394954': 19, '17896154': 5, '295685416': 22, '162069635': 37, '20467163': 4, '364415553': 62, '245451804': 9, '960962340': 9, '155669457': 89, '2953922782': 12, '2863006655': 117, '252249233': 12, '15600527': 48, '18967498': 26, '931614483050414080': 13, '995193054': 73, '1072467470': 40, '148453195': 14, '229197216': 15, '2976598347': 21, '74508260': 91, '816284664658874368': 26, '2973870195': 13, '1074101017': 44, '34715823': 12, '211420609': 19, '15356407': 19, '22509548': 21, '935033864': 31, '789244177': 29, '584912320': 30, '462143773': 90, '111635527': 58, '1499993378': 11, '432771620': 12, '231510077': 82, '1083448909': 12, '3026622545': 14, '14135426': 50, '815310506596691968': 20, '111635980': 134, '516880804': 101, '37007274': 5, '26778110': 29, '15856366': 27, '246769138': 18, '963480595': 41, '236279233': 41, '14275291': 83, '249348006': 72, '28599820': 108, '23600262': 37, '233949261': 23, '31801993': 97, '85396297': 15, '193732179': 89, '467823431': 90, '2976606250': 12, '52503751': 27, '23970171': 10, '19658173': 7, '90639372': 90, '381152398': 99, '24735461': 17, '193872188': 1, '234469322': 18, '82453460': 89, '1240107944': 24, '834069080': 6, '233693291': 17, '258900199': 84, '2560169238': 12, '232992031': 2, '190328374': 28, '15751083': 8, '237348797': 10, '2964877294': 17, '3018670151': 40, '2966570782': 60, '558769636': 62, '1058807868': 18, '248735463': 118, '1077121945': 130, '510516465': 7, '935368364': 13, '1289319271': 3, '1155212191': 18, '3686482216': 13, '27676828': 25, '2933760046': 30, '747806211983179776': 5, '1061385474': 101, '240760644': 57, '1051127714': 33, '385429543': 13, '17976923': 127, '2930635215': 25, '20545793': 9, '796183515998068736': 84, '815931811348017152': 15, '20015903': 8, '2853309155': 45, '74198348': 24, '312134473': 115, '1080509366': 46, '2696643955': 7, '1089334250': 30, '984456621417000960': 1, '18030431': 16, '168502762': 57, '811986281177772032': 7, '1080844782': 24, '818536152588238849': 16, '1060487274': 14, '25781141': 89, '40302336': 129, '2869746172': 12, '816705409486618624': 10, '1058256326': 21, '816298918468259841': 88, '3044993235': 71, '267938462': 85})"
            ]
          },
          "metadata": {
            "tags": []
          },
          "execution_count": 8
        }
      ]
    },
    {
      "cell_type": "code",
      "metadata": {
        "id": "DkpTccqv96f4"
      },
      "source": [
        "Gcc = sorted(nx.connected_components(G2), key=len, reverse=True)\n",
        "G0 = G2.subgraph(Gcc[0])"
      ],
      "execution_count": null,
      "outputs": []
    },
    {
      "cell_type": "markdown",
      "metadata": {
        "id": "CcMTRf4B4y8E"
      },
      "source": [
        "## **Determine if G0 satisfies the three properties of real-world social networks**\n",
        "(1) power law\n",
        "degree distribution, (2) high average local clustering coefficient (​ be sure to make the\n",
        "right comparison here to state that the average local clustering coefficient is high​ ), and\n",
        "(3) low average path length. "
      ]
    },
    {
      "cell_type": "markdown",
      "metadata": {
        "id": "HvukD_605Has"
      },
      "source": [
        "***(1) power law degree distribution***"
      ]
    },
    {
      "cell_type": "code",
      "metadata": {
        "id": "PSFyOPi44ArJ"
      },
      "source": [
        "G_degree = G0.degree"
      ],
      "execution_count": null,
      "outputs": []
    },
    {
      "cell_type": "code",
      "metadata": {
        "id": "1VvrIp6R405J",
        "colab": {
          "base_uri": "https://localhost:8080/",
          "height": 195
        },
        "outputId": "27e3172d-6fce-4d89-f419-087154bf8c24"
      },
      "source": [
        "df_degree = pd.DataFrame(G_degree)\n",
        "df_degree_2 = df_degree.rename(columns={0: \"a\", 1: \"c\"})\n",
        "df_degree_3 = df_degree_2.groupby('c').count().reset_index(drop=False)\n",
        "df_degree_3.head()"
      ],
      "execution_count": null,
      "outputs": [
        {
          "output_type": "execute_result",
          "data": {
            "text/html": [
              "<div>\n",
              "<style scoped>\n",
              "    .dataframe tbody tr th:only-of-type {\n",
              "        vertical-align: middle;\n",
              "    }\n",
              "\n",
              "    .dataframe tbody tr th {\n",
              "        vertical-align: top;\n",
              "    }\n",
              "\n",
              "    .dataframe thead th {\n",
              "        text-align: right;\n",
              "    }\n",
              "</style>\n",
              "<table border=\"1\" class=\"dataframe\">\n",
              "  <thead>\n",
              "    <tr style=\"text-align: right;\">\n",
              "      <th></th>\n",
              "      <th>c</th>\n",
              "      <th>a</th>\n",
              "    </tr>\n",
              "  </thead>\n",
              "  <tbody>\n",
              "    <tr>\n",
              "      <th>0</th>\n",
              "      <td>1</td>\n",
              "      <td>9</td>\n",
              "    </tr>\n",
              "    <tr>\n",
              "      <th>1</th>\n",
              "      <td>2</td>\n",
              "      <td>4</td>\n",
              "    </tr>\n",
              "    <tr>\n",
              "      <th>2</th>\n",
              "      <td>3</td>\n",
              "      <td>3</td>\n",
              "    </tr>\n",
              "    <tr>\n",
              "      <th>3</th>\n",
              "      <td>4</td>\n",
              "      <td>7</td>\n",
              "    </tr>\n",
              "    <tr>\n",
              "      <th>4</th>\n",
              "      <td>5</td>\n",
              "      <td>15</td>\n",
              "    </tr>\n",
              "  </tbody>\n",
              "</table>\n",
              "</div>"
            ],
            "text/plain": [
              "   c   a\n",
              "0  1   9\n",
              "1  2   4\n",
              "2  3   3\n",
              "3  4   7\n",
              "4  5  15"
            ]
          },
          "metadata": {
            "tags": []
          },
          "execution_count": 11
        }
      ]
    },
    {
      "cell_type": "code",
      "metadata": {
        "id": "H6W4TybB-n5w",
        "colab": {
          "base_uri": "https://localhost:8080/",
          "height": 296
        },
        "outputId": "65a65ade-599d-4812-dec5-1ff6fbace1cf"
      },
      "source": [
        "plt.bar(df_degree_3['c'],df_degree_3['a'])\n",
        "plt.ylabel('Frequency of degree')\n",
        "plt.xlabel('Degree')"
      ],
      "execution_count": null,
      "outputs": [
        {
          "output_type": "execute_result",
          "data": {
            "text/plain": [
              "Text(0.5, 0, 'Degree')"
            ]
          },
          "metadata": {
            "tags": []
          },
          "execution_count": 12
        },
        {
          "output_type": "display_data",
          "data": {
            "image/png": "[encoded data removed]",
            "text/plain": [
              "<Figure size 432x288 with 1 Axes>"
            ]
          },
          "metadata": {
            "tags": [],
            "needs_background": "light"
          }
        }
      ]
    },
    {
      "cell_type": "markdown",
      "metadata": {
        "id": "dDps_vFWye_6"
      },
      "source": [
        "Here, I have calculated the frequency of each degree and ploted in a bar graph for G0. It seems we have smaller degree with higher frequency whereas nodes with higher degree has lower frequency which satisfies the properties of power law distribution"
      ]
    },
    {
      "cell_type": "code",
      "metadata": {
        "id": "LbmfuNyPYmXl"
      },
      "source": [
        "df_degree_4 = df_degree_3['c']\n",
        "df_degree_5 = df_degree_3['a']"
      ],
      "execution_count": null,
      "outputs": []
    },
    {
      "cell_type": "code",
      "metadata": {
        "id": "iyXF3zQsYAz9",
        "colab": {
          "base_uri": "https://localhost:8080/",
          "height": 313
        },
        "outputId": "55604196-ebc8-458b-f87f-ade753f5d673"
      },
      "source": [
        "import math\n",
        "logk = []\n",
        "logPk = []\n",
        "for i in range(len(df_degree_3)):\n",
        "    logk.append(math.log10(df_degree_4[i]))\n",
        "    logPk.append(math.log10(df_degree_5[i]))\n",
        "order = np.argsort(logk)\n",
        "logk_array = np.array(logk)[order]\n",
        "logPk_array = np.array(logPk)[order]\n",
        "plt.plot(logk_array, logPk_array, \".\")\n",
        "m, c = np.polyfit(logk_array, logPk_array, 1)\n",
        "print(m,c)\n",
        "plt.plot(logk_array, m*logk_array + c, \"-\")\n",
        "plt.ylabel('log(Counts of degree)')\n",
        "plt.xlabel('log(Degree)')"
      ],
      "execution_count": null,
      "outputs": [
        {
          "output_type": "stream",
          "text": [
            "-0.5954939411948519 1.4194997116509498\n"
          ],
          "name": "stdout"
        },
        {
          "output_type": "execute_result",
          "data": {
            "text/plain": [
              "Text(0.5, 0, 'log(Degree)')"
            ]
          },
          "metadata": {
            "tags": []
          },
          "execution_count": 14
        },
        {
          "output_type": "display_data",
          "data": {
            "image/png": "[encoded data removed]",
            "text/plain": [
              "<Figure size 432x288 with 1 Axes>"
            ]
          },
          "metadata": {
            "tags": [],
            "needs_background": "light"
          }
        }
      ]
    },
    {
      "cell_type": "markdown",
      "metadata": {
        "id": "oVbAX-NRzhnl"
      },
      "source": [
        "Another way to look at the power law distribution is to plot the log log graph of degree and counts of degree. In the above graph I have plotted the log log graph and fitted a line and it has the similar form for real world power law following networks. So the largest connected component of our given graph G0 is following the power law distribution. "
      ]
    },
    {
      "cell_type": "markdown",
      "metadata": {
        "id": "1HTzFcJn5RAL"
      },
      "source": [
        "***(2) High average local clustering coefficient***"
      ]
    },
    {
      "cell_type": "code",
      "metadata": {
        "id": "M1gLjSep-sKH",
        "colab": {
          "base_uri": "https://localhost:8080/",
          "height": 34
        },
        "outputId": "4125ca59-b7df-4219-87d9-db28b9b4fd9c"
      },
      "source": [
        "print(nx.average_clustering(G0)) #average local clustering coefficient for largest connected componnet G0"
      ],
      "execution_count": null,
      "outputs": [
        {
          "output_type": "stream",
          "text": [
            "0.4270389963304332\n"
          ],
          "name": "stdout"
        }
      ]
    },
    {
      "cell_type": "markdown",
      "metadata": {
        "id": "gl0vE1bb57vs"
      },
      "source": [
        "Now we have a average clustering coeff from our network around 0.42. However we do not know if this value is really higher or not, for that we have to create a random graph with the same number of nodes and edges we have in our largest connected component graph (G0) and calculate the average clustering coeff for the raandom graph. \n",
        "\n",
        "I have created two random graph G(n,p) and G(n,m)"
      ]
    },
    {
      "cell_type": "code",
      "metadata": {
        "id": "ASzrl23KTGzA",
        "colab": {
          "base_uri": "https://localhost:8080/",
          "height": 34
        },
        "outputId": "4073fa23-d9ea-41ad-f0a8-5ca48dba216d"
      },
      "source": [
        "n_G0_2 = G0.number_of_nodes()\n",
        "m_G0_2 = G0.number_of_edges()\n",
        "vals = dict(G0.degree).values()\n",
        "average_degree = sum(vals)/len(vals)\n",
        "average_degree"
      ],
      "execution_count": null,
      "outputs": [
        {
          "output_type": "execute_result",
          "data": {
            "text/plain": [
              "39.24825986078886"
            ]
          },
          "metadata": {
            "tags": []
          },
          "execution_count": 16
        }
      ]
    },
    {
      "cell_type": "code",
      "metadata": {
        "id": "EztvzGqZT6at",
        "colab": {
          "base_uri": "https://localhost:8080/",
          "height": 35
        },
        "outputId": "19dc4625-f1a7-4389-eacb-82afc2979498"
      },
      "source": [
        "nx.info(G0)"
      ],
      "execution_count": null,
      "outputs": [
        {
          "output_type": "execute_result",
          "data": {
            "application/vnd.google.colaboratory.intrinsic+json": {
              "type": "string"
            },
            "text/plain": [
              "'Name: \\nType: Graph\\nNumber of nodes: 431\\nNumber of edges: 8458\\nAverage degree:  39.2483'"
            ]
          },
          "metadata": {
            "tags": []
          },
          "execution_count": 17
        }
      ]
    },
    {
      "cell_type": "code",
      "metadata": {
        "id": "P1WSznkRUH2b",
        "colab": {
          "base_uri": "https://localhost:8080/",
          "height": 50
        },
        "outputId": "3f4d5373-48f3-408f-9bb4-c9a04d3ccb7a"
      },
      "source": [
        "G0_np = nx.gnp_random_graph(n_G0_2, average_degree / (n_G0_2 - 1))\n",
        "print(nx.average_clustering(G0_np))\n",
        "nx.average_shortest_path_length(G0_np)"
      ],
      "execution_count": null,
      "outputs": [
        {
          "output_type": "stream",
          "text": [
            "0.0881394014725492\n"
          ],
          "name": "stdout"
        },
        {
          "output_type": "execute_result",
          "data": {
            "text/plain": [
              "1.9370204500080936"
            ]
          },
          "metadata": {
            "tags": []
          },
          "execution_count": 18
        }
      ]
    },
    {
      "cell_type": "code",
      "metadata": {
        "id": "CVlJTtyXUohJ",
        "colab": {
          "base_uri": "https://localhost:8080/",
          "height": 50
        },
        "outputId": "fd69b4dc-879f-4e35-ebaa-1f80952a5f6b"
      },
      "source": [
        "G0_nm = nx.gnm_random_graph(n_G0_2, m_G0_2)\n",
        "print(nx.average_clustering(G0_nm))\n",
        "nx.average_shortest_path_length(G0_nm)"
      ],
      "execution_count": null,
      "outputs": [
        {
          "output_type": "stream",
          "text": [
            "0.09145522958487544\n"
          ],
          "name": "stdout"
        },
        {
          "output_type": "execute_result",
          "data": {
            "text/plain": [
              "1.9329196568283602"
            ]
          },
          "metadata": {
            "tags": []
          },
          "execution_count": 19
        }
      ]
    },
    {
      "cell_type": "markdown",
      "metadata": {
        "id": "2qTmCtlT6z5Y"
      },
      "source": [
        "I have run both the random graphs multiple times and found that average clustering coeff varies be 0.08 - 0.09 which is much lower than the average clustering coeff from our largest connected compenent graph G0 (0.42). So the given graph follows the real world network property which is higher avearge local clustering coeff. "
      ]
    },
    {
      "cell_type": "markdown",
      "metadata": {
        "id": "yxc539bE5c5D"
      },
      "source": [
        "***(3) Low average path length***"
      ]
    },
    {
      "cell_type": "code",
      "metadata": {
        "id": "6-fYCIUO-4UE",
        "colab": {
          "base_uri": "https://localhost:8080/",
          "height": 34
        },
        "outputId": "9eb5b7ba-6176-411a-80ac-dcbd9976450a"
      },
      "source": [
        "nx.average_shortest_path_length(G0)"
      ],
      "execution_count": null,
      "outputs": [
        {
          "output_type": "execute_result",
          "data": {
            "text/plain": [
              "2.213511034371122"
            ]
          },
          "metadata": {
            "tags": []
          },
          "execution_count": 20
        }
      ]
    },
    {
      "cell_type": "markdown",
      "metadata": {
        "id": "sPeD8FOe7jLn"
      },
      "source": [
        "From the real world network models we have seen the avearge path length was around 4-16 (which is already small). Our graph (G0) also has similar smaller average path length like the real world network models, so the given graph G0 also follows the real world property of low average path length "
      ]
    },
    {
      "cell_type": "markdown",
      "metadata": {
        "id": "7QAVp8P12BMU"
      },
      "source": [
        "# **Find the top-10 most central nodes in the G0 network according to:**\n",
        "a. degree centrality \n",
        "b. eigenvector centrality\n",
        "c. pagerank\n",
        "d. betweenness centrality\n",
        "e. closeness centrality "
      ]
    },
    {
      "cell_type": "markdown",
      "metadata": {
        "id": "DnlxZqK83zC8"
      },
      "source": [
        "For calculating all the asked properties I have used the functions that are available in networkx and later sorted them based on the higher values. Finally took the first 10 to find the top 10 central nodes based on this properties and plotted later for better visualization. "
      ]
    },
    {
      "cell_type": "markdown",
      "metadata": {
        "id": "mmBw5cCn2efi"
      },
      "source": [
        "***Degree centrality***"
      ]
    },
    {
      "cell_type": "code",
      "metadata": {
        "id": "dgJhSwJb-9e8",
        "colab": {
          "base_uri": "https://localhost:8080/",
          "height": 34
        },
        "outputId": "89cc5ea6-2611-48e0-8b95-b7e2fb7e177b"
      },
      "source": [
        "degree_centrality = nx.degree_centrality(G0)\n",
        "type(degree_centrality)"
      ],
      "execution_count": null,
      "outputs": [
        {
          "output_type": "execute_result",
          "data": {
            "text/plain": [
              "dict"
            ]
          },
          "metadata": {
            "tags": []
          },
          "execution_count": 21
        }
      ]
    },
    {
      "cell_type": "code",
      "metadata": {
        "id": "0NonirEsA7wI",
        "colab": {
          "base_uri": "https://localhost:8080/",
          "height": 185
        },
        "outputId": "02df6405-daf9-4bd0-81e0-3fb0e0fb4031"
      },
      "source": [
        "degree_centrality_10 = OrderedDict(sorted(degree_centrality.items(), key=lambda x: x[1], reverse=True)[:10])\n",
        "degree_centrality_10"
      ],
      "execution_count": null,
      "outputs": [
        {
          "output_type": "execute_result",
          "data": {
            "text/plain": [
              "OrderedDict([('18916432', 0.46744186046511627),\n",
              "             ('15764644', 0.40232558139534885),\n",
              "             ('1209417007', 0.39069767441860465),\n",
              "             ('22012091', 0.38372093023255816),\n",
              "             ('2962868158', 0.3209302325581395),\n",
              "             ('111635980', 0.3116279069767442),\n",
              "             ('24195214', 0.3023255813953488),\n",
              "             ('242426145', 0.3023255813953488),\n",
              "             ('1077121945', 0.3023255813953488),\n",
              "             ('40302336', 0.3)])"
            ]
          },
          "metadata": {
            "tags": []
          },
          "execution_count": 22
        }
      ]
    },
    {
      "cell_type": "code",
      "metadata": {
        "id": "SbREs-EUGHYs",
        "colab": {
          "base_uri": "https://localhost:8080/",
          "height": 322
        },
        "outputId": "b763c257-d664-4159-aa44-642514924067"
      },
      "source": [
        "degree_centrality_10_lists = sorted(degree_centrality.items(), key=lambda x: x[1], reverse=True)[:10] \n",
        "x, y = zip(*degree_centrality_10_lists) # unpack a list of pairs into two tuples\n",
        "plt.plot(x, y)\n",
        "fig = plt.gcf()\n",
        "fig.set_size_inches(12, 5)\n",
        "plt.show()"
      ],
      "execution_count": null,
      "outputs": [
        {
          "output_type": "display_data",
          "data": {
            "image/png": "[encoded data removed]",
            "text/plain": [
              "<Figure size 864x360 with 1 Axes>"
            ]
          },
          "metadata": {
            "tags": [],
            "needs_background": "light"
          }
        }
      ]
    },
    {
      "cell_type": "markdown",
      "metadata": {
        "id": "kbfr8NYR2nTr"
      },
      "source": [
        "***Eigenvector centrality***"
      ]
    },
    {
      "cell_type": "code",
      "metadata": {
        "id": "NtLpAB1vBpIY",
        "colab": {
          "base_uri": "https://localhost:8080/",
          "height": 185
        },
        "outputId": "a449d7d6-d829-46b8-f414-dde1689d30d9"
      },
      "source": [
        "eigenvector_centrality = nx.eigenvector_centrality(G0)\n",
        "eigenvector_centrality_10 = OrderedDict(sorted(eigenvector_centrality.items(), key=lambda x: x[1], reverse=True)[:10])\n",
        "eigenvector_centrality_10"
      ],
      "execution_count": null,
      "outputs": [
        {
          "output_type": "execute_result",
          "data": {
            "text/plain": [
              "OrderedDict([('15764644', 0.14551134820327777),\n",
              "             ('22012091', 0.14122303383019819),\n",
              "             ('111635980', 0.12981658269558738),\n",
              "             ('24195214', 0.12774349014647016),\n",
              "             ('2962868158', 0.1260791782103403),\n",
              "             ('1077121945', 0.1239907500058236),\n",
              "             ('140519774', 0.11862462289532907),\n",
              "             ('384913290', 0.11785654484683258),\n",
              "             ('40302336', 0.11743619794240873),\n",
              "             ('2863006655', 0.11691172914409748)])"
            ]
          },
          "metadata": {
            "tags": []
          },
          "execution_count": 24
        }
      ]
    },
    {
      "cell_type": "code",
      "metadata": {
        "id": "GU6NA1Nc3K6s",
        "colab": {
          "base_uri": "https://localhost:8080/",
          "height": 320
        },
        "outputId": "17c90efd-47bd-433b-c2f1-25c038a8b3c4"
      },
      "source": [
        "eigenvector_centrality_10_lists = sorted(eigenvector_centrality.items(), key=lambda x: x[1], reverse=True)[:10] \n",
        "x, y = zip(*eigenvector_centrality_10_lists) # unpack a list of pairs into two tuples\n",
        "plt.plot(x, y)\n",
        "fig = plt.gcf()\n",
        "fig.set_size_inches(12, 5)\n",
        "plt.show()"
      ],
      "execution_count": null,
      "outputs": [
        {
          "output_type": "display_data",
          "data": {
            "image/png": "[encoded data removed]",
            "text/plain": [
              "<Figure size 864x360 with 1 Axes>"
            ]
          },
          "metadata": {
            "tags": [],
            "needs_background": "light"
          }
        }
      ]
    },
    {
      "cell_type": "markdown",
      "metadata": {
        "id": "GSJNKiNW2yWZ"
      },
      "source": [
        "***Pagerank***"
      ]
    },
    {
      "cell_type": "code",
      "metadata": {
        "id": "aSHxESEbDZ8d",
        "colab": {
          "base_uri": "https://localhost:8080/",
          "height": 185
        },
        "outputId": "e4a253ba-ce23-408a-f1a9-1d7c170cf848"
      },
      "source": [
        "pagerank = nx.pagerank(G0)\n",
        "pagerank_10 = OrderedDict(sorted(pagerank.items(), key=lambda x: x[1], reverse=True)[:10])\n",
        "pagerank_10"
      ],
      "execution_count": null,
      "outputs": [
        {
          "output_type": "execute_result",
          "data": {
            "text/plain": [
              "OrderedDict([('18916432', 0.01672579436866864),\n",
              "             ('1209417007', 0.013426419356463491),\n",
              "             ('19739126', 0.010418514042555322),\n",
              "             ('17976923', 0.010370271524344386),\n",
              "             ('235312723', 0.008041721009617753),\n",
              "             ('15764644', 0.007888585878718683),\n",
              "             ('22012091', 0.007406904545614275),\n",
              "             ('2962868158', 0.006366381067064711),\n",
              "             ('242426145', 0.006026927477135066),\n",
              "             ('1077121945', 0.005845923273812865)])"
            ]
          },
          "metadata": {
            "tags": []
          },
          "execution_count": 26
        }
      ]
    },
    {
      "cell_type": "code",
      "metadata": {
        "id": "5E3LWyF13a88",
        "colab": {
          "base_uri": "https://localhost:8080/",
          "height": 320
        },
        "outputId": "1f75c850-6c18-4d1c-9281-72551dd01ace"
      },
      "source": [
        "pagerank_10_lists = sorted(pagerank.items(), key=lambda x: x[1], reverse=True)[:10] \n",
        "x, y = zip(*pagerank_10_lists) # unpack a list of pairs into two tuples\n",
        "plt.plot(x, y)\n",
        "fig = plt.gcf()\n",
        "fig.set_size_inches(12, 5)\n",
        "plt.show()"
      ],
      "execution_count": null,
      "outputs": [
        {
          "output_type": "display_data",
          "data": {
            "image/png": "[encoded data removed]",
            "text/plain": [
              "<Figure size 864x360 with 1 Axes>"
            ]
          },
          "metadata": {
            "tags": [],
            "needs_background": "light"
          }
        }
      ]
    },
    {
      "cell_type": "markdown",
      "metadata": {
        "id": "WlHB8Eze24zZ"
      },
      "source": [
        "***Betweenness centrality***"
      ]
    },
    {
      "cell_type": "code",
      "metadata": {
        "id": "J4y8U_aGDGB4",
        "colab": {
          "base_uri": "https://localhost:8080/",
          "height": 185
        },
        "outputId": "27a18dfb-cec1-4f68-9353-b90e2730cb19"
      },
      "source": [
        "betweenness_centrality = nx.betweenness_centrality(G0)\n",
        "betweenness_centrality_10 = OrderedDict(sorted(betweenness_centrality.items(), key=lambda x: x[1], reverse=True)[:10])\n",
        "betweenness_centrality_10"
      ],
      "execution_count": null,
      "outputs": [
        {
          "output_type": "execute_result",
          "data": {
            "text/plain": [
              "OrderedDict([('18916432', 0.12330703319061122),\n",
              "             ('1209417007', 0.08884950838674749),\n",
              "             ('17976923', 0.03721386445381102),\n",
              "             ('19739126', 0.03409881025237571),\n",
              "             ('15764644', 0.026242342364152082),\n",
              "             ('14275291', 0.0246119552847619),\n",
              "             ('235312723', 0.02039620757921033),\n",
              "             ('22012091', 0.019586804106442025),\n",
              "             ('242426145', 0.014847871710247845),\n",
              "             ('248735463', 0.014460693836363258)])"
            ]
          },
          "metadata": {
            "tags": []
          },
          "execution_count": 28
        }
      ]
    },
    {
      "cell_type": "code",
      "metadata": {
        "id": "z0Zn-OFJ3kGF",
        "colab": {
          "base_uri": "https://localhost:8080/",
          "height": 320
        },
        "outputId": "b48d5c66-62bb-45e8-c737-30d2bd11fe66"
      },
      "source": [
        "betweenness_centrality_10_lists = sorted(betweenness_centrality.items(), key=lambda x: x[1], reverse=True)[:10] \n",
        "x, y = zip(*betweenness_centrality_10_lists) # unpack a list of pairs into two tuples\n",
        "plt.plot(x, y)\n",
        "fig = plt.gcf()\n",
        "fig.set_size_inches(12, 5)\n",
        "plt.show()"
      ],
      "execution_count": null,
      "outputs": [
        {
          "output_type": "display_data",
          "data": {
            "image/png": "[encoded data removed]",
            "text/plain": [
              "<Figure size 864x360 with 1 Axes>"
            ]
          },
          "metadata": {
            "tags": [],
            "needs_background": "light"
          }
        }
      ]
    },
    {
      "cell_type": "markdown",
      "metadata": {
        "id": "NL0AHEh43DnW"
      },
      "source": [
        "***Closeness centrality***"
      ]
    },
    {
      "cell_type": "code",
      "metadata": {
        "id": "y1HrWrv7Cjyy",
        "colab": {
          "base_uri": "https://localhost:8080/",
          "height": 185
        },
        "outputId": "66e27d66-36ac-4f09-8b21-9aea7456837c"
      },
      "source": [
        "closeness_centrality = nx.closeness_centrality(G0)\n",
        "closeness_centrality_10 = OrderedDict(sorted(closeness_centrality.items(), key=lambda x: x[1], reverse=True)[:10])\n",
        "closeness_centrality_10"
      ],
      "execution_count": null,
      "outputs": [
        {
          "output_type": "execute_result",
          "data": {
            "text/plain": [
              "OrderedDict([('18916432', 0.6398809523809523),\n",
              "             ('1209417007', 0.6151645207439199),\n",
              "             ('15764644', 0.5963938973647711),\n",
              "             ('22012091', 0.5882352941176471),\n",
              "             ('19739126', 0.5733333333333334),\n",
              "             ('137794015', 0.5672823218997362),\n",
              "             ('17976923', 0.5613577023498695),\n",
              "             ('2916086925', 0.5436156763590392),\n",
              "             ('2962868158', 0.5408805031446541),\n",
              "             ('242426145', 0.5408805031446541)])"
            ]
          },
          "metadata": {
            "tags": []
          },
          "execution_count": 30
        }
      ]
    },
    {
      "cell_type": "code",
      "metadata": {
        "id": "CbGaL2RSC-l-",
        "colab": {
          "base_uri": "https://localhost:8080/",
          "height": 320
        },
        "outputId": "b26924d9-001a-49ea-d39a-58cc04a8c469"
      },
      "source": [
        "closeness_centrality_10_lists = sorted(closeness_centrality.items(), key=lambda x: x[1], reverse=True)[:10] \n",
        "x, y = zip(*closeness_centrality_10_lists) # unpack a list of pairs into two tuples\n",
        "plt.plot(x, y)\n",
        "fig = plt.gcf()\n",
        "fig.set_size_inches(12, 5)\n",
        "plt.show()"
      ],
      "execution_count": null,
      "outputs": [
        {
          "output_type": "display_data",
          "data": {
            "image/png": "[encoded data removed]",
            "text/plain": [
              "<Figure size 864x360 with 1 Axes>"
            ]
          },
          "metadata": {
            "tags": [],
            "needs_background": "light"
          }
        }
      ]
    },
    {
      "cell_type": "code",
      "metadata": {
        "id": "aABPemJl3v-d"
      },
      "source": [
        ""
      ],
      "execution_count": null,
      "outputs": []
    }
  ]
}